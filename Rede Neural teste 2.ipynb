{
 "cells": [
  {
   "cell_type": "code",
   "execution_count": 1,
   "metadata": {},
   "outputs": [
    {
     "name": "stderr",
     "output_type": "stream",
     "text": [
      "Using Theano backend.\n",
      "WARNING (theano.configdefaults): g++ not available, if using conda: `conda install m2w64-toolchain`\n",
      "c:\\users\\isabel\\appdata\\local\\programs\\python\\python37-32\\lib\\site-packages\\theano\\configdefaults.py:560: UserWarning: DeprecationWarning: there is no c++ compiler.This is deprecated and with Theano 0.11 a c++ compiler will be mandatory\n",
      "  warnings.warn(\"DeprecationWarning: there is no c++ compiler.\"\n",
      "WARNING (theano.configdefaults): g++ not detected ! Theano will be unable to execute optimized C-implementations (for both CPU and GPU) and will default to Python implementations. Performance will be severely degraded. To remove this warning, set Theano flags cxx to an empty string.\n",
      "WARNING (theano.tensor.blas): Using NumPy C-API based implementation for BLAS functions.\n"
     ]
    }
   ],
   "source": [
    "import os\n",
    "os.environ[\"KERAS_BACKEND\"] = \"theano\"\n",
    "\n",
    "import pandas as pd\n",
    "import numpy as np\n",
    "from sklearn import preprocessing\n",
    "from matplotlib import pyplot as plt\n",
    "from keras.models import Sequential\n",
    "from keras.layers import Dense"
   ]
  },
  {
   "cell_type": "markdown",
   "metadata": {},
   "source": [
    "# Projeto Rede Neural"
   ]
  },
  {
   "cell_type": "code",
   "execution_count": 2,
   "metadata": {},
   "outputs": [],
   "source": [
    "file = pd.read_csv('data50.csv')"
   ]
  },
  {
   "cell_type": "code",
   "execution_count": 3,
   "metadata": {},
   "outputs": [
    {
     "data": {
      "text/plain": [
       "(17342, 7)"
      ]
     },
     "execution_count": 3,
     "metadata": {},
     "output_type": "execute_result"
    }
   ],
   "source": [
    "file.shape"
   ]
  },
  {
   "cell_type": "code",
   "execution_count": 4,
   "metadata": {},
   "outputs": [],
   "source": [
    "file = file.drop(columns=\"Adj Close\")"
   ]
  },
  {
   "cell_type": "code",
   "execution_count": 5,
   "metadata": {},
   "outputs": [],
   "source": [
    "BigMA = 120\n",
    "BigMA2 = 150\n",
    "BigMA3 = 180\n",
    "BigMA4 = 200\n",
    "VerySmallMA = 3\n",
    "SmallMA = 10\n",
    "SmallMA2 = 15\n",
    "SmallMA3 = 20\n",
    "SmallMA4 = 30\n",
    "AvgMA = 40\n",
    "AvgMA2 = 80\n",
    "file['MAVeySmall'] = file['Close'].rolling(window=VerySmallMA).mean()\n",
    "file['MASmall'] = file['Close'].rolling(window=SmallMA).mean()\n",
    "file['MASmall2'] = file['Close'].rolling(window=SmallMA2).mean()\n",
    "file['MASmall3'] = file['Close'].rolling(window=SmallMA3).mean()\n",
    "file['MASmall4'] = file['Close'].rolling(window=SmallMA4).mean()\n",
    "file['MAAvg'] = file['Close'].rolling(window=AvgMA).mean()\n",
    "file['MAAvg2'] = file['Close'].rolling(window=AvgMA2).mean()\n",
    "file['MABig'] = file['Close'].rolling(window=BigMA).mean()\n",
    "file['MABig2'] = file['Close'].rolling(window=BigMA2).mean()\n",
    "file['MABig3'] = file['Close'].rolling(window=BigMA3).mean()\n",
    "file['MABig4'] = file['Close'].rolling(window=BigMA4).mean()"
   ]
  },
  {
   "cell_type": "code",
   "execution_count": 6,
   "metadata": {},
   "outputs": [
    {
     "data": {
      "text/html": [
       "<div>\n",
       "<style scoped>\n",
       "    .dataframe tbody tr th:only-of-type {\n",
       "        vertical-align: middle;\n",
       "    }\n",
       "\n",
       "    .dataframe tbody tr th {\n",
       "        vertical-align: top;\n",
       "    }\n",
       "\n",
       "    .dataframe thead th {\n",
       "        text-align: right;\n",
       "    }\n",
       "</style>\n",
       "<table border=\"1\" class=\"dataframe\">\n",
       "  <thead>\n",
       "    <tr style=\"text-align: right;\">\n",
       "      <th></th>\n",
       "      <th>Date</th>\n",
       "      <th>Open</th>\n",
       "      <th>High</th>\n",
       "      <th>Low</th>\n",
       "      <th>Close</th>\n",
       "      <th>Volume</th>\n",
       "      <th>MAVeySmall</th>\n",
       "      <th>MASmall</th>\n",
       "      <th>MASmall2</th>\n",
       "      <th>MASmall3</th>\n",
       "      <th>MASmall4</th>\n",
       "      <th>MAAvg</th>\n",
       "      <th>MAAvg2</th>\n",
       "      <th>MABig</th>\n",
       "      <th>MABig2</th>\n",
       "      <th>MABig3</th>\n",
       "      <th>MABig4</th>\n",
       "    </tr>\n",
       "  </thead>\n",
       "  <tbody>\n",
       "    <tr>\n",
       "      <th>17337</th>\n",
       "      <td>2018-11-26</td>\n",
       "      <td>2649.969971</td>\n",
       "      <td>2674.350098</td>\n",
       "      <td>2649.969971</td>\n",
       "      <td>2673.449951</td>\n",
       "      <td>3443950000</td>\n",
       "      <td>2651.979981</td>\n",
       "      <td>2690.500977</td>\n",
       "      <td>2720.033317</td>\n",
       "      <td>2714.977490</td>\n",
       "      <td>2724.098657</td>\n",
       "      <td>2758.240497</td>\n",
       "      <td>2819.342743</td>\n",
       "      <td>2805.777336</td>\n",
       "      <td>2785.020534</td>\n",
       "      <td>2765.332332</td>\n",
       "      <td>2761.003550</td>\n",
       "    </tr>\n",
       "    <tr>\n",
       "      <th>17338</th>\n",
       "      <td>2018-11-27</td>\n",
       "      <td>2663.750000</td>\n",
       "      <td>2682.530029</td>\n",
       "      <td>2655.889893</td>\n",
       "      <td>2682.169922</td>\n",
       "      <td>3485220000</td>\n",
       "      <td>2662.726644</td>\n",
       "      <td>2686.095972</td>\n",
       "      <td>2716.290641</td>\n",
       "      <td>2717.023486</td>\n",
       "      <td>2721.811320</td>\n",
       "      <td>2752.179993</td>\n",
       "      <td>2817.365491</td>\n",
       "      <td>2805.042334</td>\n",
       "      <td>2785.305667</td>\n",
       "      <td>2764.870443</td>\n",
       "      <td>2761.134399</td>\n",
       "    </tr>\n",
       "    <tr>\n",
       "      <th>17339</th>\n",
       "      <td>2018-11-28</td>\n",
       "      <td>2691.449951</td>\n",
       "      <td>2744.000000</td>\n",
       "      <td>2684.379883</td>\n",
       "      <td>2743.790039</td>\n",
       "      <td>3951670000</td>\n",
       "      <td>2699.803304</td>\n",
       "      <td>2688.256983</td>\n",
       "      <td>2715.513314</td>\n",
       "      <td>2720.081494</td>\n",
       "      <td>2719.606991</td>\n",
       "      <td>2747.688995</td>\n",
       "      <td>2816.032867</td>\n",
       "      <td>2804.748667</td>\n",
       "      <td>2785.818001</td>\n",
       "      <td>2764.838832</td>\n",
       "      <td>2761.538650</td>\n",
       "    </tr>\n",
       "    <tr>\n",
       "      <th>17340</th>\n",
       "      <td>2018-11-29</td>\n",
       "      <td>2736.969971</td>\n",
       "      <td>2753.750000</td>\n",
       "      <td>2722.939941</td>\n",
       "      <td>2737.800049</td>\n",
       "      <td>3560770000</td>\n",
       "      <td>2721.253337</td>\n",
       "      <td>2691.878980</td>\n",
       "      <td>2710.440658</td>\n",
       "      <td>2721.384497</td>\n",
       "      <td>2717.226660</td>\n",
       "      <td>2742.996246</td>\n",
       "      <td>2814.524744</td>\n",
       "      <td>2804.380335</td>\n",
       "      <td>2786.270602</td>\n",
       "      <td>2764.785887</td>\n",
       "      <td>2761.734501</td>\n",
       "    </tr>\n",
       "    <tr>\n",
       "      <th>17341</th>\n",
       "      <td>2018-11-30</td>\n",
       "      <td>2737.760010</td>\n",
       "      <td>2760.879883</td>\n",
       "      <td>2732.760010</td>\n",
       "      <td>2760.159912</td>\n",
       "      <td>4658580000</td>\n",
       "      <td>2747.250000</td>\n",
       "      <td>2694.874976</td>\n",
       "      <td>2707.329313</td>\n",
       "      <td>2722.373987</td>\n",
       "      <td>2716.939323</td>\n",
       "      <td>2739.459991</td>\n",
       "      <td>2813.305493</td>\n",
       "      <td>2804.157916</td>\n",
       "      <td>2787.018001</td>\n",
       "      <td>2764.831165</td>\n",
       "      <td>2761.879301</td>\n",
       "    </tr>\n",
       "  </tbody>\n",
       "</table>\n",
       "</div>"
      ],
      "text/plain": [
       "             Date         Open         High          Low        Close  \\\n",
       "17337  2018-11-26  2649.969971  2674.350098  2649.969971  2673.449951   \n",
       "17338  2018-11-27  2663.750000  2682.530029  2655.889893  2682.169922   \n",
       "17339  2018-11-28  2691.449951  2744.000000  2684.379883  2743.790039   \n",
       "17340  2018-11-29  2736.969971  2753.750000  2722.939941  2737.800049   \n",
       "17341  2018-11-30  2737.760010  2760.879883  2732.760010  2760.159912   \n",
       "\n",
       "           Volume   MAVeySmall      MASmall     MASmall2     MASmall3  \\\n",
       "17337  3443950000  2651.979981  2690.500977  2720.033317  2714.977490   \n",
       "17338  3485220000  2662.726644  2686.095972  2716.290641  2717.023486   \n",
       "17339  3951670000  2699.803304  2688.256983  2715.513314  2720.081494   \n",
       "17340  3560770000  2721.253337  2691.878980  2710.440658  2721.384497   \n",
       "17341  4658580000  2747.250000  2694.874976  2707.329313  2722.373987   \n",
       "\n",
       "          MASmall4        MAAvg       MAAvg2        MABig       MABig2  \\\n",
       "17337  2724.098657  2758.240497  2819.342743  2805.777336  2785.020534   \n",
       "17338  2721.811320  2752.179993  2817.365491  2805.042334  2785.305667   \n",
       "17339  2719.606991  2747.688995  2816.032867  2804.748667  2785.818001   \n",
       "17340  2717.226660  2742.996246  2814.524744  2804.380335  2786.270602   \n",
       "17341  2716.939323  2739.459991  2813.305493  2804.157916  2787.018001   \n",
       "\n",
       "            MABig3       MABig4  \n",
       "17337  2765.332332  2761.003550  \n",
       "17338  2764.870443  2761.134399  \n",
       "17339  2764.838832  2761.538650  \n",
       "17340  2764.785887  2761.734501  \n",
       "17341  2764.831165  2761.879301  "
      ]
     },
     "execution_count": 6,
     "metadata": {},
     "output_type": "execute_result"
    }
   ],
   "source": [
    "file.tail(5)"
   ]
  },
  {
   "cell_type": "code",
   "execution_count": 7,
   "metadata": {},
   "outputs": [
    {
     "data": {
      "text/plain": [
       "Index(['MAVeySmall', 'MASmall', 'MASmall2', 'MASmall3', 'MASmall4', 'MAAvg',\n",
       "       'MAAvg2', 'MABig', 'MABig2', 'MABig3', 'MABig4'],\n",
       "      dtype='object')"
      ]
     },
     "execution_count": 7,
     "metadata": {},
     "output_type": "execute_result"
    }
   ],
   "source": [
    "file.columns[6:]"
   ]
  },
  {
   "cell_type": "code",
   "execution_count": 8,
   "metadata": {},
   "outputs": [
    {
     "data": {
      "image/png": "[encoded data removed]",
      "text/plain": [
       "<Figure size 432x288 with 1 Axes>"
      ]
     },
     "metadata": {
      "needs_background": "light"
     },
     "output_type": "display_data"
    }
   ],
   "source": [
    "for i in file.columns[6:]:\n",
    "    plt.plot(file[i])"
   ]
  },
  {
   "cell_type": "markdown",
   "metadata": {},
   "source": [
    "## Machine Learning"
   ]
  },
  {
   "cell_type": "code",
   "execution_count": 9,
   "metadata": {},
   "outputs": [],
   "source": [
    "variacao = []\n",
    "for i in range(len(file['Close'])-10):\n",
    "    variacao.append(100 * (file['Close'][i+10]/file['Close'][i] - 1))"
   ]
  },
  {
   "cell_type": "code",
   "execution_count": 10,
   "metadata": {},
   "outputs": [],
   "source": [
    "file['target'] = pd.DataFrame(variacao)"
   ]
  },
  {
   "cell_type": "code",
   "execution_count": 11,
   "metadata": {},
   "outputs": [
    {
     "name": "stderr",
     "output_type": "stream",
     "text": [
      "c:\\users\\isabel\\appdata\\local\\programs\\python\\python37-32\\lib\\site-packages\\ipykernel_launcher.py:1: FutureWarning: Method .as_matrix will be removed in a future version. Use .values instead.\n",
      "  \"\"\"Entry point for launching an IPython kernel.\n"
     ]
    }
   ],
   "source": [
    "matrix = file.as_matrix()"
   ]
  },
  {
   "cell_type": "markdown",
   "metadata": {},
   "source": [
    "m is the data matrix with everything exepet date and starting at line 149 (because of MA) and ending before last 10 lines (because of variation that predicts for the next 10 days)"
   ]
  },
  {
   "cell_type": "code",
   "execution_count": 12,
   "metadata": {},
   "outputs": [],
   "source": [
    "m = np.array(matrix[199:len(matrix)-10,1:])"
   ]
  },
  {
   "cell_type": "markdown",
   "metadata": {},
   "source": [
    "X is m without the variation column"
   ]
  },
  {
   "cell_type": "code",
   "execution_count": 13,
   "metadata": {},
   "outputs": [],
   "source": [
    "X = m[:,:len(m[0])-1]"
   ]
  },
  {
   "cell_type": "markdown",
   "metadata": {},
   "source": [
    "Y is only yhe variation column"
   ]
  },
  {
   "cell_type": "code",
   "execution_count": 14,
   "metadata": {},
   "outputs": [],
   "source": [
    "Y = m[:,-1]"
   ]
  },
  {
   "cell_type": "markdown",
   "metadata": {},
   "source": [
    "Normalization"
   ]
  },
  {
   "cell_type": "code",
   "execution_count": 15,
   "metadata": {},
   "outputs": [
    {
     "name": "stderr",
     "output_type": "stream",
     "text": [
      "c:\\users\\isabel\\appdata\\local\\programs\\python\\python37-32\\lib\\site-packages\\sklearn\\utils\\validation.py:590: DataConversionWarning: Data with input dtype object was converted to float64 by the scale function.\n",
      "  warnings.warn(msg, DataConversionWarning)\n",
      "c:\\users\\isabel\\appdata\\local\\programs\\python\\python37-32\\lib\\site-packages\\sklearn\\preprocessing\\data.py:176: UserWarning: Numerical issues were encountered when centering the data and might not be solved. Dataset may contain too large values. You may need to prescale your features.\n",
      "  warnings.warn(\"Numerical issues were encountered \"\n"
     ]
    }
   ],
   "source": [
    "X = preprocessing.scale(X)"
   ]
  },
  {
   "cell_type": "code",
   "execution_count": 16,
   "metadata": {},
   "outputs": [
    {
     "data": {
      "text/plain": [
       "array([-2.2488805597201567, -1.4485514485514495, -0.551097221998853, ...,\n",
       "       0.7938529979582443, 1.3406958133483915, 1.0973540963190809],\n",
       "      dtype=object)"
      ]
     },
     "execution_count": 16,
     "metadata": {},
     "output_type": "execute_result"
    }
   ],
   "source": [
    "Y"
   ]
  },
  {
   "cell_type": "code",
   "execution_count": 17,
   "metadata": {},
   "outputs": [
    {
     "data": {
      "text/plain": [
       "array([[-0.81966482, -0.82054345, -0.81884906, ..., -0.82436445,\n",
       "        -0.82509899, -0.82560405],\n",
       "       [-0.81964996, -0.82052866, -0.81883412, ..., -0.82433876,\n",
       "        -0.82507374, -0.82557824],\n",
       "       [-0.81973913, -0.82061738, -0.81892377, ..., -0.82431327,\n",
       "        -0.82504899, -0.82555436],\n",
       "       ...,\n",
       "       [ 3.20750393,  3.22275895,  3.20798192, ...,  3.38942823,\n",
       "         3.38352369,  3.38851926],\n",
       "       [ 3.21916895,  3.21122598,  3.16430641, ...,  3.38988804,\n",
       "         3.38372703,  3.38758062],\n",
       "       [ 3.15321964,  3.19434038,  3.14189338, ...,  3.39041975,\n",
       "         3.38405827,  3.38687582]])"
      ]
     },
     "execution_count": 17,
     "metadata": {},
     "output_type": "execute_result"
    }
   ],
   "source": [
    "X"
   ]
  },
  {
   "cell_type": "code",
   "execution_count": 18,
   "metadata": {},
   "outputs": [],
   "source": [
    "model = Sequential()\n",
    "model.add(Dense(12, input_dim=len(X[0]), activation='relu'))\n",
    "model.add(Dense(8, activation='relu'))\n",
    "model.add(Dense(1, activation='tanh'))"
   ]
  },
  {
   "cell_type": "code",
   "execution_count": 19,
   "metadata": {},
   "outputs": [],
   "source": [
    "model.compile(loss='mean_squared_error', optimizer='adam', metrics=['accuracy'])"
   ]
  },
  {
   "cell_type": "code",
   "execution_count": 42,
   "metadata": {},
   "outputs": [
    {
     "name": "stdout",
     "output_type": "stream",
     "text": [
      "Epoch 1/100\n",
      "17133/17133 [==============================] - 34s 2ms/step - loss: 8.5927 - acc: 0.0012\n",
      "Epoch 2/100\n",
      "17133/17133 [==============================] - 34s 2ms/step - loss: 8.5882 - acc: 0.0012\n",
      "Epoch 3/100\n",
      "17133/17133 [==============================] - 34s 2ms/step - loss: 8.5870 - acc: 0.0012\n",
      "Epoch 4/100\n",
      "17133/17133 [==============================] - 34s 2ms/step - loss: 8.5864 - acc: 0.0012\n",
      "Epoch 5/100\n",
      "17133/17133 [==============================] - 34s 2ms/step - loss: 8.5917 - acc: 0.0012\n",
      "Epoch 6/100\n",
      "17133/17133 [==============================] - 34s 2ms/step - loss: 8.5803 - acc: 0.0012\n",
      "Epoch 7/100\n",
      "17133/17133 [==============================] - 34s 2ms/step - loss: 8.5810 - acc: 0.0012\n",
      "Epoch 8/100\n",
      "17133/17133 [==============================] - 34s 2ms/step - loss: 8.5788 - acc: 0.0012\n",
      "Epoch 9/100\n",
      "17133/17133 [==============================] - 34s 2ms/step - loss: 8.5803 - acc: 0.0012\n",
      "Epoch 10/100\n",
      "17133/17133 [==============================] - 34s 2ms/step - loss: 8.5795 - acc: 0.0012\n",
      "Epoch 11/100\n",
      "17133/17133 [==============================] - 34s 2ms/step - loss: 8.5790 - acc: 0.0012\n",
      "Epoch 12/100\n",
      "17133/17133 [==============================] - 34s 2ms/step - loss: 8.5760 - acc: 0.0012\n",
      "Epoch 13/100\n",
      "17133/17133 [==============================] - 35s 2ms/step - loss: 8.5732 - acc: 0.0012\n",
      "Epoch 14/100\n",
      "17133/17133 [==============================] - 35s 2ms/step - loss: 8.5771 - acc: 0.0012\n",
      "Epoch 15/100\n",
      "17133/17133 [==============================] - 34s 2ms/step - loss: 8.5709 - acc: 0.0012\n",
      "Epoch 16/100\n",
      "17133/17133 [==============================] - 34s 2ms/step - loss: 8.5707 - acc: 0.0012\n",
      "Epoch 17/100\n",
      "17133/17133 [==============================] - 34s 2ms/step - loss: 8.5761 - acc: 0.0012\n",
      "Epoch 18/100\n",
      "17133/17133 [==============================] - 34s 2ms/step - loss: 8.5765 - acc: 0.0012\n",
      "Epoch 19/100\n",
      "17133/17133 [==============================] - 34s 2ms/step - loss: 8.5695 - acc: 0.0012\n",
      "Epoch 20/100\n",
      "17133/17133 [==============================] - 34s 2ms/step - loss: 8.5730 - acc: 0.0012\n",
      "Epoch 21/100\n",
      "17133/17133 [==============================] - 34s 2ms/step - loss: 8.5668 - acc: 0.0012\n",
      "Epoch 22/100\n",
      "17133/17133 [==============================] - 34s 2ms/step - loss: 8.5657 - acc: 0.0012\n",
      "Epoch 23/100\n",
      "17133/17133 [==============================] - 34s 2ms/step - loss: 8.5646 - acc: 0.0012\n",
      "Epoch 24/100\n",
      "17133/17133 [==============================] - 34s 2ms/step - loss: 8.5704 - acc: 0.0012\n",
      "Epoch 25/100\n",
      "17133/17133 [==============================] - 34s 2ms/step - loss: 8.5659 - acc: 0.0012\n",
      "Epoch 26/100\n",
      "17133/17133 [==============================] - 34s 2ms/step - loss: 8.5653 - acc: 0.0012\n",
      "Epoch 27/100\n",
      "17133/17133 [==============================] - 31s 2ms/step - loss: 8.5637 - acc: 0.0012\n",
      "Epoch 28/100\n",
      "17133/17133 [==============================] - 34s 2ms/step - loss: 8.5625 - acc: 0.0012\n",
      "Epoch 29/100\n",
      "17133/17133 [==============================] - 34s 2ms/step - loss: 8.5613 - acc: 0.0012\n",
      "Epoch 30/100\n",
      "17133/17133 [==============================] - 34s 2ms/step - loss: 8.5645 - acc: 0.0012\n",
      "Epoch 31/100\n",
      "17133/17133 [==============================] - 30s 2ms/step - loss: 8.5611 - acc: 0.0012\n",
      "Epoch 32/100\n",
      "17133/17133 [==============================] - 34s 2ms/step - loss: 8.5560 - acc: 0.0012\n",
      "Epoch 33/100\n",
      "17133/17133 [==============================] - 34s 2ms/step - loss: 8.5627 - acc: 0.0012\n",
      "Epoch 34/100\n",
      "17133/17133 [==============================] - 35s 2ms/step - loss: 8.5561 - acc: 0.0012\n",
      "Epoch 35/100\n",
      "17133/17133 [==============================] - 35s 2ms/step - loss: 8.5564 - acc: 0.0012\n",
      "Epoch 36/100\n",
      "17133/17133 [==============================] - 35s 2ms/step - loss: 8.5601 - acc: 0.0012\n",
      "Epoch 37/100\n",
      "17133/17133 [==============================] - 34s 2ms/step - loss: 8.5517 - acc: 0.0012\n",
      "Epoch 38/100\n",
      "17133/17133 [==============================] - 34s 2ms/step - loss: 8.5549 - acc: 0.0012\n",
      "Epoch 39/100\n",
      "17133/17133 [==============================] - 34s 2ms/step - loss: 8.5489 - acc: 0.0012\n",
      "Epoch 40/100\n",
      "17133/17133 [==============================] - 34s 2ms/step - loss: 8.5535 - acc: 0.0012\n",
      "Epoch 41/100\n",
      "17133/17133 [==============================] - 36s 2ms/step - loss: 8.5510 - acc: 0.0012\n",
      "Epoch 42/100\n",
      "17133/17133 [==============================] - 34s 2ms/step - loss: 8.5505 - acc: 0.0012\n",
      "Epoch 43/100\n",
      "17133/17133 [==============================] - 32s 2ms/step - loss: 8.5508 - acc: 0.0012\n",
      "Epoch 44/100\n",
      "17133/17133 [==============================] - 33s 2ms/step - loss: 8.5470 - acc: 0.0012\n",
      "Epoch 45/100\n",
      "17133/17133 [==============================] - 22s 1ms/step - loss: 8.5491 - acc: 0.0012\n",
      "Epoch 46/100\n",
      "17133/17133 [==============================] - 35s 2ms/step - loss: 8.5468 - acc: 0.0011\n",
      "Epoch 47/100\n",
      "17133/17133 [==============================] - 35s 2ms/step - loss: 8.5467 - acc: 0.0012\n",
      "Epoch 48/100\n",
      "17133/17133 [==============================] - 33s 2ms/step - loss: 8.5439 - acc: 0.0012\n",
      "Epoch 49/100\n",
      "17133/17133 [==============================] - 34s 2ms/step - loss: 8.5463 - acc: 0.0012\n",
      "Epoch 50/100\n",
      "17133/17133 [==============================] - 36s 2ms/step - loss: 8.5401 - acc: 0.0012\n",
      "Epoch 51/100\n",
      "17133/17133 [==============================] - 36s 2ms/step - loss: 8.5446 - acc: 0.0012\n",
      "Epoch 52/100\n",
      "17133/17133 [==============================] - 37s 2ms/step - loss: 8.5357 - acc: 0.0012\n",
      "Epoch 53/100\n",
      "17133/17133 [==============================] - 36s 2ms/step - loss: 8.5398 - acc: 0.0012\n",
      "Epoch 54/100\n",
      "17133/17133 [==============================] - 36s 2ms/step - loss: 8.5378 - acc: 0.0012\n",
      "Epoch 55/100\n",
      "17133/17133 [==============================] - 33s 2ms/step - loss: 8.5372 - acc: 0.0012\n",
      "Epoch 56/100\n",
      "17133/17133 [==============================] - 29s 2ms/step - loss: 8.5392 - acc: 0.0012\n",
      "Epoch 57/100\n",
      "17133/17133 [==============================] - 35s 2ms/step - loss: 8.5401 - acc: 0.0012\n",
      "Epoch 58/100\n",
      "17133/17133 [==============================] - 35s 2ms/step - loss: 8.5368 - acc: 0.0012\n",
      "Epoch 59/100\n",
      "17133/17133 [==============================] - 37s 2ms/step - loss: 8.5365 - acc: 0.0012\n",
      "Epoch 60/100\n",
      "17133/17133 [==============================] - 36s 2ms/step - loss: 8.5319 - acc: 0.0012\n",
      "Epoch 61/100\n",
      "17133/17133 [==============================] - 36s 2ms/step - loss: 8.5295 - acc: 0.0012\n",
      "Epoch 62/100\n",
      "17133/17133 [==============================] - 37s 2ms/step - loss: 8.5354 - acc: 0.0012\n",
      "Epoch 63/100\n",
      "17133/17133 [==============================] - 36s 2ms/step - loss: 8.5353 - acc: 0.0012\n",
      "Epoch 64/100\n",
      "17133/17133 [==============================] - 35s 2ms/step - loss: 8.5299 - acc: 0.0012\n",
      "Epoch 65/100\n",
      "17133/17133 [==============================] - 36s 2ms/step - loss: 8.5362 - acc: 0.0012\n",
      "Epoch 66/100\n",
      "17133/17133 [==============================] - 35s 2ms/step - loss: 8.5339 - acc: 0.0011\n",
      "Epoch 67/100\n",
      "17133/17133 [==============================] - 35s 2ms/step - loss: 8.5250 - acc: 0.0012\n",
      "Epoch 68/100\n",
      "17133/17133 [==============================] - 35s 2ms/step - loss: 8.5347 - acc: 0.0012\n",
      "Epoch 69/100\n",
      "17133/17133 [==============================] - 34s 2ms/step - loss: 8.5306 - acc: 0.0012\n",
      "Epoch 70/100\n",
      "17133/17133 [==============================] - 35s 2ms/step - loss: 8.5342 - acc: 0.0012\n",
      "Epoch 71/100\n",
      "17133/17133 [==============================] - 35s 2ms/step - loss: 8.5295 - acc: 0.0012\n",
      "Epoch 72/100\n",
      "17133/17133 [==============================] - 34s 2ms/step - loss: 8.5270 - acc: 0.0012\n",
      "Epoch 73/100\n",
      "17133/17133 [==============================] - 31s 2ms/step - loss: 8.5225 - acc: 0.0012\n",
      "Epoch 74/100\n",
      "17133/17133 [==============================] - 33s 2ms/step - loss: 8.5325 - acc: 0.0012\n",
      "Epoch 75/100\n",
      "17133/17133 [==============================] - 33s 2ms/step - loss: 8.5239 - acc: 0.0012\n",
      "Epoch 76/100\n",
      "17133/17133 [==============================] - 33s 2ms/step - loss: 8.5314 - acc: 0.0012\n",
      "Epoch 77/100\n",
      "17133/17133 [==============================] - 33s 2ms/step - loss: 8.5303 - acc: 0.0012\n",
      "Epoch 78/100\n",
      "17133/17133 [==============================] - 33s 2ms/step - loss: 8.5299 - acc: 0.0012\n",
      "Epoch 79/100\n",
      "17133/17133 [==============================] - 33s 2ms/step - loss: 8.5241 - acc: 0.0012\n",
      "Epoch 80/100\n",
      "17133/17133 [==============================] - 33s 2ms/step - loss: 8.5154 - acc: 0.0012\n",
      "Epoch 81/100\n"
     ]
    },
    {
     "name": "stdout",
     "output_type": "stream",
     "text": [
      "17133/17133 [==============================] - 34s 2ms/step - loss: 8.5254 - acc: 0.0012\n",
      "Epoch 82/100\n",
      "17133/17133 [==============================] - 34s 2ms/step - loss: 8.5200 - acc: 0.0012\n",
      "Epoch 83/100\n",
      "17133/17133 [==============================] - 34s 2ms/step - loss: 8.5198 - acc: 0.0012\n",
      "Epoch 84/100\n",
      "17133/17133 [==============================] - 34s 2ms/step - loss: 8.5244 - acc: 0.0012\n",
      "Epoch 85/100\n",
      "17133/17133 [==============================] - 34s 2ms/step - loss: 8.5241 - acc: 0.0012\n",
      "Epoch 86/100\n",
      "17133/17133 [==============================] - 34s 2ms/step - loss: 8.5266 - acc: 0.0012\n",
      "Epoch 87/100\n",
      "17133/17133 [==============================] - 35s 2ms/step - loss: 8.5226 - acc: 0.0011\n",
      "Epoch 88/100\n",
      "17133/17133 [==============================] - 35s 2ms/step - loss: 8.5278 - acc: 0.0011\n",
      "Epoch 89/100\n",
      "17133/17133 [==============================] - 34s 2ms/step - loss: 8.5216 - acc: 0.0012\n",
      "Epoch 90/100\n",
      "17133/17133 [==============================] - 34s 2ms/step - loss: 8.5184 - acc: 0.0012\n",
      "Epoch 91/100\n",
      "17133/17133 [==============================] - 34s 2ms/step - loss: 8.5204 - acc: 0.0012\n",
      "Epoch 92/100\n",
      "17133/17133 [==============================] - 34s 2ms/step - loss: 8.5283 - acc: 0.0012\n",
      "Epoch 93/100\n",
      "17133/17133 [==============================] - 34s 2ms/step - loss: 8.5319 - acc: 0.0012\n",
      "Epoch 94/100\n",
      "17133/17133 [==============================] - 34s 2ms/step - loss: 8.5170 - acc: 0.0012\n",
      "Epoch 95/100\n",
      "17133/17133 [==============================] - 34s 2ms/step - loss: 8.5163 - acc: 0.0012\n",
      "Epoch 96/100\n",
      "17133/17133 [==============================] - 34s 2ms/step - loss: 8.5173 - acc: 0.0012\n",
      "Epoch 97/100\n",
      "17133/17133 [==============================] - 34s 2ms/step - loss: 8.5156 - acc: 0.0012\n",
      "Epoch 98/100\n",
      "17133/17133 [==============================] - 34s 2ms/step - loss: 8.5229 - acc: 0.0012\n",
      "Epoch 99/100\n",
      "17133/17133 [==============================] - 34s 2ms/step - loss: 8.5138 - acc: 0.0012\n",
      "Epoch 100/100\n",
      "17133/17133 [==============================] - 34s 2ms/step - loss: 8.5223 - acc: 0.0011\n"
     ]
    },
    {
     "data": {
      "text/plain": [
       "<keras.callbacks.History at 0x1cc690>"
      ]
     },
     "execution_count": 42,
     "metadata": {},
     "output_type": "execute_result"
    }
   ],
   "source": [
    "model.fit(X, Y, epochs=100, batch_size=128)"
   ]
  },
  {
   "cell_type": "code",
   "execution_count": 43,
   "metadata": {},
   "outputs": [
    {
     "name": "stdout",
     "output_type": "stream",
     "text": [
      "17133/17133 [==============================] - 17s 969us/step\n"
     ]
    }
   ],
   "source": [
    "scores = model.evaluate(X, Y)"
   ]
  },
  {
   "cell_type": "code",
   "execution_count": 44,
   "metadata": {},
   "outputs": [
    {
     "data": {
      "text/plain": [
       "2.9179890442538072"
      ]
     },
     "execution_count": 44,
     "metadata": {},
     "output_type": "execute_result"
    }
   ],
   "source": [
    "import math\n",
    "math.sqrt(scores[0])"
   ]
  },
  {
   "cell_type": "code",
   "execution_count": 45,
   "metadata": {},
   "outputs": [
    {
     "data": {
      "text/plain": [
       "0.3308839650397523"
      ]
     },
     "execution_count": 45,
     "metadata": {},
     "output_type": "execute_result"
    }
   ],
   "source": [
    "Y.mean()"
   ]
  },
  {
   "cell_type": "code",
   "execution_count": 46,
   "metadata": {},
   "outputs": [
    {
     "data": {
      "text/plain": [
       "2.9433353342589275"
      ]
     },
     "execution_count": 46,
     "metadata": {},
     "output_type": "execute_result"
    }
   ],
   "source": [
    "Y.std()"
   ]
  },
  {
   "cell_type": "code",
   "execution_count": null,
   "metadata": {},
   "outputs": [],
   "source": []
  }
 ],
 "metadata": {
  "kernelspec": {
   "display_name": "Python 3",
   "language": "python",
   "name": "python3"
  },
  "language_info": {
   "codemirror_mode": {
    "name": "ipython",
    "version": 3
   },
   "file_extension": ".py",
   "mimetype": "text/x-python",
   "name": "python",
   "nbconvert_exporter": "python",
   "pygments_lexer": "ipython3",
   "version": "3.7.0"
  }
 },
 "nbformat": 4,
 "nbformat_minor": 2
}
