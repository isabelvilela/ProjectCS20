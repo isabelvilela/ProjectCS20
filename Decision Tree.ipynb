{
 "cells": [
  {
   "cell_type": "code",
   "execution_count": 2,
   "metadata": {},
   "outputs": [],
   "source": [
    "import pandas as pd\n",
    "import numpy as np\n",
    "from matplotlib import pyplot as plt\n",
    "from sklearn import tree"
   ]
  },
  {
   "cell_type": "markdown",
   "metadata": {},
   "source": [
    "# Projeto "
   ]
  },
  {
   "cell_type": "markdown",
   "metadata": {},
   "source": [
    "Opening file"
   ]
  },
  {
   "cell_type": "code",
   "execution_count": 3,
   "metadata": {},
   "outputs": [],
   "source": [
    "file = pd.read_csv('data.csv')"
   ]
  },
  {
   "cell_type": "code",
   "execution_count": 4,
   "metadata": {},
   "outputs": [
    {
     "data": {
      "text/plain": [
       "(2517, 7)"
      ]
     },
     "execution_count": 4,
     "metadata": {},
     "output_type": "execute_result"
    }
   ],
   "source": [
    "file.shape"
   ]
  },
  {
   "cell_type": "markdown",
   "metadata": {},
   "source": [
    "Calculating Rolling Mean with (10,150) windows"
   ]
  },
  {
   "cell_type": "code",
   "execution_count": 5,
   "metadata": {},
   "outputs": [],
   "source": [
    "file['MASmall'] = file['Close'].rolling(window=10).mean()"
   ]
  },
  {
   "cell_type": "code",
   "execution_count": 6,
   "metadata": {},
   "outputs": [],
   "source": [
    "file['MABig'] = file['Close'].rolling(window=150).mean()"
   ]
  },
  {
   "cell_type": "code",
   "execution_count": 9,
   "metadata": {
    "scrolled": true
   },
   "outputs": [
    {
     "data": {
      "text/html": [
       "<div>\n",
       "<style scoped>\n",
       "    .dataframe tbody tr th:only-of-type {\n",
       "        vertical-align: middle;\n",
       "    }\n",
       "\n",
       "    .dataframe tbody tr th {\n",
       "        vertical-align: top;\n",
       "    }\n",
       "\n",
       "    .dataframe thead th {\n",
       "        text-align: right;\n",
       "    }\n",
       "</style>\n",
       "<table border=\"1\" class=\"dataframe\">\n",
       "  <thead>\n",
       "    <tr style=\"text-align: right;\">\n",
       "      <th></th>\n",
       "      <th>Date</th>\n",
       "      <th>Open</th>\n",
       "      <th>High</th>\n",
       "      <th>Low</th>\n",
       "      <th>Close</th>\n",
       "      <th>Adj Close</th>\n",
       "      <th>Volume</th>\n",
       "      <th>MASmall</th>\n",
       "      <th>MABig</th>\n",
       "    </tr>\n",
       "  </thead>\n",
       "  <tbody>\n",
       "    <tr>\n",
       "      <th>2512</th>\n",
       "      <td>10/29/2018</td>\n",
       "      <td>2682.649902</td>\n",
       "      <td>2706.850098</td>\n",
       "      <td>2603.540039</td>\n",
       "      <td>2641.250000</td>\n",
       "      <td>2641.250000</td>\n",
       "      <td>4673700000</td>\n",
       "      <td>2731.386987</td>\n",
       "      <td>2776.283200</td>\n",
       "    </tr>\n",
       "    <tr>\n",
       "      <th>2513</th>\n",
       "      <td>10/30/2018</td>\n",
       "      <td>2640.679932</td>\n",
       "      <td>2685.429932</td>\n",
       "      <td>2635.340088</td>\n",
       "      <td>2682.629883</td>\n",
       "      <td>2682.629883</td>\n",
       "      <td>5106380000</td>\n",
       "      <td>2718.657983</td>\n",
       "      <td>2776.800732</td>\n",
       "    </tr>\n",
       "    <tr>\n",
       "      <th>2514</th>\n",
       "      <td>10/31/2018</td>\n",
       "      <td>2705.600098</td>\n",
       "      <td>2736.689941</td>\n",
       "      <td>2705.600098</td>\n",
       "      <td>2711.739990</td>\n",
       "      <td>2711.739990</td>\n",
       "      <td>5112420000</td>\n",
       "      <td>2708.910986</td>\n",
       "      <td>2777.273198</td>\n",
       "    </tr>\n",
       "    <tr>\n",
       "      <th>2515</th>\n",
       "      <td>11/1/2018</td>\n",
       "      <td>2717.580078</td>\n",
       "      <td>2741.669922</td>\n",
       "      <td>2708.850098</td>\n",
       "      <td>2740.370117</td>\n",
       "      <td>2740.370117</td>\n",
       "      <td>4708420000</td>\n",
       "      <td>2706.069995</td>\n",
       "      <td>2778.329800</td>\n",
       "    </tr>\n",
       "    <tr>\n",
       "      <th>2516</th>\n",
       "      <td>11/2/2018</td>\n",
       "      <td>2745.449951</td>\n",
       "      <td>2756.550049</td>\n",
       "      <td>2700.439941</td>\n",
       "      <td>2723.060059</td>\n",
       "      <td>2723.060059</td>\n",
       "      <td>4237930000</td>\n",
       "      <td>2701.597998</td>\n",
       "      <td>2779.053867</td>\n",
       "    </tr>\n",
       "  </tbody>\n",
       "</table>\n",
       "</div>"
      ],
      "text/plain": [
       "            Date         Open         High          Low        Close  \\\n",
       "2512  10/29/2018  2682.649902  2706.850098  2603.540039  2641.250000   \n",
       "2513  10/30/2018  2640.679932  2685.429932  2635.340088  2682.629883   \n",
       "2514  10/31/2018  2705.600098  2736.689941  2705.600098  2711.739990   \n",
       "2515   11/1/2018  2717.580078  2741.669922  2708.850098  2740.370117   \n",
       "2516   11/2/2018  2745.449951  2756.550049  2700.439941  2723.060059   \n",
       "\n",
       "        Adj Close      Volume      MASmall        MABig  \n",
       "2512  2641.250000  4673700000  2731.386987  2776.283200  \n",
       "2513  2682.629883  5106380000  2718.657983  2776.800732  \n",
       "2514  2711.739990  5112420000  2708.910986  2777.273198  \n",
       "2515  2740.370117  4708420000  2706.069995  2778.329800  \n",
       "2516  2723.060059  4237930000  2701.597998  2779.053867  "
      ]
     },
     "execution_count": 9,
     "metadata": {},
     "output_type": "execute_result"
    }
   ],
   "source": [
    "file.tail(5)"
   ]
  },
  {
   "cell_type": "markdown",
   "metadata": {},
   "source": [
    "Price x Moving Average 10 x Moving Average 150"
   ]
  },
  {
   "cell_type": "code",
   "execution_count": 8,
   "metadata": {},
   "outputs": [
    {
     "data": {
      "text/plain": [
       "[<matplotlib.lines.Line2D at 0x1ce2a150>]"
      ]
     },
     "execution_count": 8,
     "metadata": {},
     "output_type": "execute_result"
    },
    {
     "data": {
      "image/png": "[encoded data removed]",
      "text/plain": [
       "<Figure size 432x288 with 1 Axes>"
      ]
     },
     "metadata": {
      "needs_background": "light"
     },
     "output_type": "display_data"
    }
   ],
   "source": [
    "plt.plot(file['Close'])\n",
    "plt.plot(file['MASmall'])\n",
    "plt.plot(file['MABig'])"
   ]
  },
  {
   "cell_type": "markdown",
   "metadata": {},
   "source": [
    "Calculating binary to show buy oportunities"
   ]
  },
  {
   "cell_type": "code",
   "execution_count": 10,
   "metadata": {},
   "outputs": [],
   "source": [
    "file['Strat1'] = file['MABig'] > file['MASmall']"
   ]
  },
  {
   "cell_type": "code",
   "execution_count": 11,
   "metadata": {},
   "outputs": [],
   "source": [
    "file['Strat1'] = file['Strat1'].astype(int)"
   ]
  },
  {
   "cell_type": "code",
   "execution_count": 12,
   "metadata": {},
   "outputs": [
    {
     "data": {
      "text/plain": [
       "[<matplotlib.lines.Line2D at 0x1ce8e5b0>]"
      ]
     },
     "execution_count": 12,
     "metadata": {},
     "output_type": "execute_result"
    },
    {
     "data": {
      "image/png": "[encoded data removed]",
      "text/plain": [
       "<Figure size 432x288 with 1 Axes>"
      ]
     },
     "metadata": {
      "needs_background": "light"
     },
     "output_type": "display_data"
    }
   ],
   "source": [
    "plt.plot(file['Strat1'])"
   ]
  },
  {
   "cell_type": "code",
   "execution_count": 13,
   "metadata": {},
   "outputs": [
    {
     "data": {
      "text/plain": [
       "0    2146\n",
       "1     371\n",
       "Name: Strat1, dtype: int64"
      ]
     },
     "execution_count": 13,
     "metadata": {},
     "output_type": "execute_result"
    }
   ],
   "source": [
    "file['Strat1'].value_counts()"
   ]
  },
  {
   "cell_type": "markdown",
   "metadata": {},
   "source": [
    "### Backtest"
   ]
  },
  {
   "cell_type": "code",
   "execution_count": 14,
   "metadata": {},
   "outputs": [],
   "source": [
    "historico = []\n",
    "montante = 100\n",
    "tem = 0\n",
    "for i, n in enumerate(file['Strat1']):\n",
    "    if n==1 and tem==0:\n",
    "        compra = file['Close'][i]\n",
    "        tem = 1\n",
    "    elif n==0 and tem==1:\n",
    "        venda = file['Close'][i]\n",
    "        tem = 0\n",
    "        montante = montante*(venda/compra)\n",
    "    historico.append(montante)"
   ]
  },
  {
   "cell_type": "code",
   "execution_count": 15,
   "metadata": {},
   "outputs": [
    {
     "data": {
      "text/plain": [
       "145.95918452465966"
      ]
     },
     "execution_count": 15,
     "metadata": {},
     "output_type": "execute_result"
    }
   ],
   "source": [
    "montante"
   ]
  },
  {
   "cell_type": "code",
   "execution_count": 16,
   "metadata": {},
   "outputs": [
    {
     "data": {
      "text/plain": [
       "[<matplotlib.lines.Line2D at 0x1cecafb0>]"
      ]
     },
     "execution_count": 16,
     "metadata": {},
     "output_type": "execute_result"
    },
    {
     "data": {
      "image/png": "[encoded data removed]",
      "text/plain": [
       "<Figure size 432x288 with 1 Axes>"
      ]
     },
     "metadata": {
      "needs_background": "light"
     },
     "output_type": "display_data"
    }
   ],
   "source": [
    "plt.plot(historico)"
   ]
  },
  {
   "cell_type": "code",
   "execution_count": 17,
   "metadata": {
    "scrolled": true
   },
   "outputs": [
    {
     "data": {
      "text/plain": [
       "2.8580454903482377"
      ]
     },
     "execution_count": 17,
     "metadata": {},
     "output_type": "execute_result"
    }
   ],
   "source": [
    "file['Close'][len(file)-1]/file['Close'][0]"
   ]
  },
  {
   "cell_type": "code",
   "execution_count": 18,
   "metadata": {},
   "outputs": [
    {
     "data": {
      "text/html": [
       "<div>\n",
       "<style scoped>\n",
       "    .dataframe tbody tr th:only-of-type {\n",
       "        vertical-align: middle;\n",
       "    }\n",
       "\n",
       "    .dataframe tbody tr th {\n",
       "        vertical-align: top;\n",
       "    }\n",
       "\n",
       "    .dataframe thead th {\n",
       "        text-align: right;\n",
       "    }\n",
       "</style>\n",
       "<table border=\"1\" class=\"dataframe\">\n",
       "  <thead>\n",
       "    <tr style=\"text-align: right;\">\n",
       "      <th></th>\n",
       "      <th>Date</th>\n",
       "      <th>Open</th>\n",
       "      <th>High</th>\n",
       "      <th>Low</th>\n",
       "      <th>Close</th>\n",
       "      <th>Adj Close</th>\n",
       "      <th>Volume</th>\n",
       "      <th>MASmall</th>\n",
       "      <th>MABig</th>\n",
       "      <th>Strat1</th>\n",
       "    </tr>\n",
       "  </thead>\n",
       "  <tbody>\n",
       "    <tr>\n",
       "      <th>2512</th>\n",
       "      <td>10/29/2018</td>\n",
       "      <td>2682.649902</td>\n",
       "      <td>2706.850098</td>\n",
       "      <td>2603.540039</td>\n",
       "      <td>2641.250000</td>\n",
       "      <td>2641.250000</td>\n",
       "      <td>4673700000</td>\n",
       "      <td>2731.386987</td>\n",
       "      <td>2776.283200</td>\n",
       "      <td>1</td>\n",
       "    </tr>\n",
       "    <tr>\n",
       "      <th>2513</th>\n",
       "      <td>10/30/2018</td>\n",
       "      <td>2640.679932</td>\n",
       "      <td>2685.429932</td>\n",
       "      <td>2635.340088</td>\n",
       "      <td>2682.629883</td>\n",
       "      <td>2682.629883</td>\n",
       "      <td>5106380000</td>\n",
       "      <td>2718.657983</td>\n",
       "      <td>2776.800732</td>\n",
       "      <td>1</td>\n",
       "    </tr>\n",
       "    <tr>\n",
       "      <th>2514</th>\n",
       "      <td>10/31/2018</td>\n",
       "      <td>2705.600098</td>\n",
       "      <td>2736.689941</td>\n",
       "      <td>2705.600098</td>\n",
       "      <td>2711.739990</td>\n",
       "      <td>2711.739990</td>\n",
       "      <td>5112420000</td>\n",
       "      <td>2708.910986</td>\n",
       "      <td>2777.273198</td>\n",
       "      <td>1</td>\n",
       "    </tr>\n",
       "    <tr>\n",
       "      <th>2515</th>\n",
       "      <td>11/1/2018</td>\n",
       "      <td>2717.580078</td>\n",
       "      <td>2741.669922</td>\n",
       "      <td>2708.850098</td>\n",
       "      <td>2740.370117</td>\n",
       "      <td>2740.370117</td>\n",
       "      <td>4708420000</td>\n",
       "      <td>2706.069995</td>\n",
       "      <td>2778.329800</td>\n",
       "      <td>1</td>\n",
       "    </tr>\n",
       "    <tr>\n",
       "      <th>2516</th>\n",
       "      <td>11/2/2018</td>\n",
       "      <td>2745.449951</td>\n",
       "      <td>2756.550049</td>\n",
       "      <td>2700.439941</td>\n",
       "      <td>2723.060059</td>\n",
       "      <td>2723.060059</td>\n",
       "      <td>4237930000</td>\n",
       "      <td>2701.597998</td>\n",
       "      <td>2779.053867</td>\n",
       "      <td>1</td>\n",
       "    </tr>\n",
       "  </tbody>\n",
       "</table>\n",
       "</div>"
      ],
      "text/plain": [
       "            Date         Open         High          Low        Close  \\\n",
       "2512  10/29/2018  2682.649902  2706.850098  2603.540039  2641.250000   \n",
       "2513  10/30/2018  2640.679932  2685.429932  2635.340088  2682.629883   \n",
       "2514  10/31/2018  2705.600098  2736.689941  2705.600098  2711.739990   \n",
       "2515   11/1/2018  2717.580078  2741.669922  2708.850098  2740.370117   \n",
       "2516   11/2/2018  2745.449951  2756.550049  2700.439941  2723.060059   \n",
       "\n",
       "        Adj Close      Volume      MASmall        MABig  Strat1  \n",
       "2512  2641.250000  4673700000  2731.386987  2776.283200       1  \n",
       "2513  2682.629883  5106380000  2718.657983  2776.800732       1  \n",
       "2514  2711.739990  5112420000  2708.910986  2777.273198       1  \n",
       "2515  2740.370117  4708420000  2706.069995  2778.329800       1  \n",
       "2516  2723.060059  4237930000  2701.597998  2779.053867       1  "
      ]
     },
     "execution_count": 18,
     "metadata": {},
     "output_type": "execute_result"
    }
   ],
   "source": [
    "file.tail(5)"
   ]
  },
  {
   "cell_type": "markdown",
   "metadata": {},
   "source": [
    "## Machine Learning"
   ]
  },
  {
   "cell_type": "markdown",
   "metadata": {},
   "source": [
    "Creating Target: Variation of next 10 days"
   ]
  },
  {
   "cell_type": "code",
   "execution_count": 19,
   "metadata": {},
   "outputs": [],
   "source": [
    "variacao = []\n",
    "for i in range(len(file['Close'])-10):\n",
    "    variacao.append(1 - file['Close'][i+10]/file['Close'][i])"
   ]
  },
  {
   "cell_type": "code",
   "execution_count": 20,
   "metadata": {},
   "outputs": [
    {
     "data": {
      "text/plain": [
       "[<matplotlib.lines.Line2D at 0x1cf13690>]"
      ]
     },
     "execution_count": 20,
     "metadata": {},
     "output_type": "execute_result"
    },
    {
     "data": {
      "image/png": "[encoded data removed]",
      "text/plain": [
       "<Figure size 432x288 with 1 Axes>"
      ]
     },
     "metadata": {
      "needs_background": "light"
     },
     "output_type": "display_data"
    }
   ],
   "source": [
    "plt.plot(variacao)"
   ]
  },
  {
   "cell_type": "code",
   "execution_count": 21,
   "metadata": {},
   "outputs": [],
   "source": [
    "file['target'] = pd.DataFrame(variacao)"
   ]
  },
  {
   "cell_type": "code",
   "execution_count": 22,
   "metadata": {},
   "outputs": [
    {
     "name": "stderr",
     "output_type": "stream",
     "text": [
      "c:\\users\\isabel\\appdata\\local\\programs\\python\\python37-32\\lib\\site-packages\\ipykernel_launcher.py:1: FutureWarning: Method .as_matrix will be removed in a future version. Use .values instead.\n",
      "  \"\"\"Entry point for launching an IPython kernel.\n"
     ]
    }
   ],
   "source": [
    "matrix = file.as_matrix()"
   ]
  },
  {
   "cell_type": "markdown",
   "metadata": {},
   "source": [
    "m is the data matrix with everything exepet date and starting at line 149 (because of MA) and ending before last 10 lines (because of variation that predicts for the next 10 days)"
   ]
  },
  {
   "cell_type": "code",
   "execution_count": 38,
   "metadata": {},
   "outputs": [],
   "source": [
    "m = np.array(matrix[149:len(matrix)-10,1:])"
   ]
  },
  {
   "cell_type": "markdown",
   "metadata": {},
   "source": [
    "X is m without the variation column"
   ]
  },
  {
   "cell_type": "code",
   "execution_count": 39,
   "metadata": {},
   "outputs": [],
   "source": [
    "X = m[:,:len(m[0])-1]"
   ]
  },
  {
   "cell_type": "markdown",
   "metadata": {},
   "source": [
    "Y is only yhe variation column"
   ]
  },
  {
   "cell_type": "code",
   "execution_count": 40,
   "metadata": {},
   "outputs": [],
   "source": [
    "Y = m[:,-1]"
   ]
  },
  {
   "cell_type": "code",
   "execution_count": 26,
   "metadata": {},
   "outputs": [
    {
     "data": {
      "text/plain": [
       "array([0.02606653114013502, 0.028862511878996022, -0.0037998626317454764,\n",
       "       ..., 0.03469657745528687, 0.010260805012473506,\n",
       "       0.016157342538582253], dtype=object)"
      ]
     },
     "execution_count": 26,
     "metadata": {},
     "output_type": "execute_result"
    }
   ],
   "source": [
    "Y"
   ]
  },
  {
   "cell_type": "code",
   "execution_count": 27,
   "metadata": {},
   "outputs": [
    {
     "data": {
      "text/plain": [
       "array([[939.0399779999999, 956.2299800000001, 939.0399779999999, ...,\n",
       "        938.6670106000001, 851.3772664466665, 0],\n",
       "       [943.4400019999999, 946.2999880000001, 935.659973, ...,\n",
       "        941.3740113, 851.3335331266665, 0],\n",
       "       [942.4500119999999, 942.4500119999999, 919.650024, ...,\n",
       "        939.4590089000001, 851.4591328999998, 0],\n",
       "       ...,\n",
       "       [2811.669922, 2816.939941, 2781.810059, ..., 2820.305004900001,\n",
       "        2774.2977327666645, 0],\n",
       "       [2802.0, 2806.040039, 2755.179932, ..., 2807.0219971000015,\n",
       "        2774.4095328933313, 0],\n",
       "       [2775.659912, 2797.77002, 2760.27002, ..., 2795.2429932000014,\n",
       "        2774.775266939998, 0]], dtype=object)"
      ]
     },
     "execution_count": 27,
     "metadata": {},
     "output_type": "execute_result"
    }
   ],
   "source": [
    "X"
   ]
  },
  {
   "cell_type": "markdown",
   "metadata": {},
   "source": [
    "Splitting dataset into train and test"
   ]
  },
  {
   "cell_type": "code",
   "execution_count": 28,
   "metadata": {},
   "outputs": [],
   "source": [
    "size = int(0.8*len(X))\n",
    "X_train = X[:size]\n",
    "Y_train = Y[:size]\n",
    "X_test = X[size:]\n",
    "Y_test = Y[size:]"
   ]
  },
  {
   "cell_type": "markdown",
   "metadata": {},
   "source": [
    "Decision Tree Model"
   ]
  },
  {
   "cell_type": "code",
   "execution_count": 29,
   "metadata": {},
   "outputs": [],
   "source": [
    "clf = tree.DecisionTreeRegressor()"
   ]
  },
  {
   "cell_type": "code",
   "execution_count": 30,
   "metadata": {},
   "outputs": [
    {
     "data": {
      "text/plain": [
       "array([939.0399779999999, 956.2299800000001, 939.0399779999999,\n",
       "       944.8900150000001, 944.8900150000001, 5500840000,\n",
       "       938.6670106000001, 851.3772664466665, 0], dtype=object)"
      ]
     },
     "execution_count": 30,
     "metadata": {},
     "output_type": "execute_result"
    }
   ],
   "source": [
    "X_train[0]"
   ]
  },
  {
   "cell_type": "code",
   "execution_count": 31,
   "metadata": {},
   "outputs": [],
   "source": [
    "clf = clf.fit(X_train,Y_train)"
   ]
  },
  {
   "cell_type": "code",
   "execution_count": 32,
   "metadata": {},
   "outputs": [],
   "source": [
    "predict = clf.predict(X_test)"
   ]
  },
  {
   "cell_type": "markdown",
   "metadata": {},
   "source": [
    "Root Mean squared error"
   ]
  },
  {
   "cell_type": "markdown",
   "metadata": {},
   "source": [
    "$$RMSE = \\sqrt{\\frac{1}{n}\\Sigma_{i=1}^{n}{(Predict_i - Ytest_i)^2}}$$"
   ]
  },
  {
   "cell_type": "code",
   "execution_count": 33,
   "metadata": {},
   "outputs": [],
   "source": [
    "error = 0\n",
    "for i, n in enumerate(predict):\n",
    "    error += (n - Y_test[i])**2\n",
    "error = error/len(predict)"
   ]
  },
  {
   "cell_type": "code",
   "execution_count": 34,
   "metadata": {},
   "outputs": [],
   "source": [
    "import math"
   ]
  },
  {
   "cell_type": "code",
   "execution_count": 35,
   "metadata": {},
   "outputs": [
    {
     "data": {
      "text/plain": [
       "0.029936684367129214"
      ]
     },
     "execution_count": 35,
     "metadata": {},
     "output_type": "execute_result"
    }
   ],
   "source": [
    "math.sqrt(error)"
   ]
  },
  {
   "cell_type": "code",
   "execution_count": 36,
   "metadata": {},
   "outputs": [
    {
     "data": {
      "text/plain": [
       "-0.004064246200909832"
      ]
     },
     "execution_count": 36,
     "metadata": {},
     "output_type": "execute_result"
    }
   ],
   "source": [
    "Y_test.mean()"
   ]
  },
  {
   "cell_type": "code",
   "execution_count": 37,
   "metadata": {},
   "outputs": [
    {
     "data": {
      "text/plain": [
       "0.02012647302117172"
      ]
     },
     "execution_count": 37,
     "metadata": {},
     "output_type": "execute_result"
    }
   ],
   "source": [
    "Y_test.std()"
   ]
  },
  {
   "cell_type": "code",
   "execution_count": null,
   "metadata": {},
   "outputs": [],
   "source": []
  },
  {
   "cell_type": "code",
   "execution_count": null,
   "metadata": {},
   "outputs": [],
   "source": []
  }
 ],
 "metadata": {
  "kernelspec": {
   "display_name": "Python 3",
   "language": "python",
   "name": "python3"
  },
  "language_info": {
   "codemirror_mode": {
    "name": "ipython",
    "version": 3
   },
   "file_extension": ".py",
   "mimetype": "text/x-python",
   "name": "python",
   "nbconvert_exporter": "python",
   "pygments_lexer": "ipython3",
   "version": "3.7.0"
  }
 },
 "nbformat": 4,
 "nbformat_minor": 2
}
