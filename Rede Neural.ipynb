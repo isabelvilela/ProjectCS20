{
 "cells": [
  {
   "cell_type": "code",
   "execution_count": 1,
   "metadata": {},
   "outputs": [
    {
     "name": "stderr",
     "output_type": "stream",
     "text": [
      "Using Theano backend.\n",
      "WARNING (theano.configdefaults): g++ not available, if using conda: `conda install m2w64-toolchain`\n",
      "c:\\users\\isabel\\appdata\\local\\programs\\python\\python37-32\\lib\\site-packages\\theano\\configdefaults.py:560: UserWarning: DeprecationWarning: there is no c++ compiler.This is deprecated and with Theano 0.11 a c++ compiler will be mandatory\n",
      "  warnings.warn(\"DeprecationWarning: there is no c++ compiler.\"\n",
      "WARNING (theano.configdefaults): g++ not detected ! Theano will be unable to execute optimized C-implementations (for both CPU and GPU) and will default to Python implementations. Performance will be severely degraded. To remove this warning, set Theano flags cxx to an empty string.\n",
      "WARNING (theano.tensor.blas): Using NumPy C-API based implementation for BLAS functions.\n"
     ]
    }
   ],
   "source": [
    "import os\n",
    "os.environ[\"KERAS_BACKEND\"] = \"theano\"\n",
    "\n",
    "import pandas as pd\n",
    "import numpy as np\n",
    "from sklearn import preprocessing\n",
    "from matplotlib import pyplot as plt\n",
    "from keras.models import Sequential\n",
    "from keras.layers import Dense"
   ]
  },
  {
   "cell_type": "markdown",
   "metadata": {},
   "source": [
    "# Projeto Rede Neural"
   ]
  },
  {
   "cell_type": "code",
   "execution_count": 2,
   "metadata": {},
   "outputs": [],
   "source": [
    "file = pd.read_csv('data.csv')"
   ]
  },
  {
   "cell_type": "code",
   "execution_count": 3,
   "metadata": {},
   "outputs": [
    {
     "data": {
      "text/plain": [
       "(2517, 7)"
      ]
     },
     "execution_count": 3,
     "metadata": {},
     "output_type": "execute_result"
    }
   ],
   "source": [
    "file.shape"
   ]
  },
  {
   "cell_type": "code",
   "execution_count": 4,
   "metadata": {},
   "outputs": [],
   "source": [
    "BigMA = 150\n",
    "SmallMA = 10\n",
    "file['MASmall'] = file['Close'].rolling(window=SmallMA).mean()\n",
    "file['MABig'] = file['Close'].rolling(window=BigMA).mean()"
   ]
  },
  {
   "cell_type": "code",
   "execution_count": 5,
   "metadata": {},
   "outputs": [
    {
     "data": {
      "text/html": [
       "<div>\n",
       "<style scoped>\n",
       "    .dataframe tbody tr th:only-of-type {\n",
       "        vertical-align: middle;\n",
       "    }\n",
       "\n",
       "    .dataframe tbody tr th {\n",
       "        vertical-align: top;\n",
       "    }\n",
       "\n",
       "    .dataframe thead th {\n",
       "        text-align: right;\n",
       "    }\n",
       "</style>\n",
       "<table border=\"1\" class=\"dataframe\">\n",
       "  <thead>\n",
       "    <tr style=\"text-align: right;\">\n",
       "      <th></th>\n",
       "      <th>Date</th>\n",
       "      <th>Open</th>\n",
       "      <th>High</th>\n",
       "      <th>Low</th>\n",
       "      <th>Close</th>\n",
       "      <th>Adj Close</th>\n",
       "      <th>Volume</th>\n",
       "      <th>MASmall</th>\n",
       "      <th>MABig</th>\n",
       "    </tr>\n",
       "  </thead>\n",
       "  <tbody>\n",
       "    <tr>\n",
       "      <th>2512</th>\n",
       "      <td>10/29/2018</td>\n",
       "      <td>2682.649902</td>\n",
       "      <td>2706.850098</td>\n",
       "      <td>2603.540039</td>\n",
       "      <td>2641.250000</td>\n",
       "      <td>2641.250000</td>\n",
       "      <td>4673700000</td>\n",
       "      <td>2731.386987</td>\n",
       "      <td>2776.283200</td>\n",
       "    </tr>\n",
       "    <tr>\n",
       "      <th>2513</th>\n",
       "      <td>10/30/2018</td>\n",
       "      <td>2640.679932</td>\n",
       "      <td>2685.429932</td>\n",
       "      <td>2635.340088</td>\n",
       "      <td>2682.629883</td>\n",
       "      <td>2682.629883</td>\n",
       "      <td>5106380000</td>\n",
       "      <td>2718.657983</td>\n",
       "      <td>2776.800732</td>\n",
       "    </tr>\n",
       "    <tr>\n",
       "      <th>2514</th>\n",
       "      <td>10/31/2018</td>\n",
       "      <td>2705.600098</td>\n",
       "      <td>2736.689941</td>\n",
       "      <td>2705.600098</td>\n",
       "      <td>2711.739990</td>\n",
       "      <td>2711.739990</td>\n",
       "      <td>5112420000</td>\n",
       "      <td>2708.910986</td>\n",
       "      <td>2777.273198</td>\n",
       "    </tr>\n",
       "    <tr>\n",
       "      <th>2515</th>\n",
       "      <td>11/1/2018</td>\n",
       "      <td>2717.580078</td>\n",
       "      <td>2741.669922</td>\n",
       "      <td>2708.850098</td>\n",
       "      <td>2740.370117</td>\n",
       "      <td>2740.370117</td>\n",
       "      <td>4708420000</td>\n",
       "      <td>2706.069995</td>\n",
       "      <td>2778.329800</td>\n",
       "    </tr>\n",
       "    <tr>\n",
       "      <th>2516</th>\n",
       "      <td>11/2/2018</td>\n",
       "      <td>2745.449951</td>\n",
       "      <td>2756.550049</td>\n",
       "      <td>2700.439941</td>\n",
       "      <td>2723.060059</td>\n",
       "      <td>2723.060059</td>\n",
       "      <td>4237930000</td>\n",
       "      <td>2701.597998</td>\n",
       "      <td>2779.053867</td>\n",
       "    </tr>\n",
       "  </tbody>\n",
       "</table>\n",
       "</div>"
      ],
      "text/plain": [
       "            Date         Open         High          Low        Close  \\\n",
       "2512  10/29/2018  2682.649902  2706.850098  2603.540039  2641.250000   \n",
       "2513  10/30/2018  2640.679932  2685.429932  2635.340088  2682.629883   \n",
       "2514  10/31/2018  2705.600098  2736.689941  2705.600098  2711.739990   \n",
       "2515   11/1/2018  2717.580078  2741.669922  2708.850098  2740.370117   \n",
       "2516   11/2/2018  2745.449951  2756.550049  2700.439941  2723.060059   \n",
       "\n",
       "        Adj Close      Volume      MASmall        MABig  \n",
       "2512  2641.250000  4673700000  2731.386987  2776.283200  \n",
       "2513  2682.629883  5106380000  2718.657983  2776.800732  \n",
       "2514  2711.739990  5112420000  2708.910986  2777.273198  \n",
       "2515  2740.370117  4708420000  2706.069995  2778.329800  \n",
       "2516  2723.060059  4237930000  2701.597998  2779.053867  "
      ]
     },
     "execution_count": 5,
     "metadata": {},
     "output_type": "execute_result"
    }
   ],
   "source": [
    "file.tail(5)"
   ]
  },
  {
   "cell_type": "markdown",
   "metadata": {},
   "source": [
    "## Machine Learning"
   ]
  },
  {
   "cell_type": "code",
   "execution_count": 6,
   "metadata": {},
   "outputs": [],
   "source": [
    "variacao = []\n",
    "for i in range(len(file['Close'])-10):\n",
    "    variacao.append(100 * (file['Close'][i+10]/file['Close'][i] - 1))"
   ]
  },
  {
   "cell_type": "code",
   "execution_count": 7,
   "metadata": {},
   "outputs": [],
   "source": [
    "file['target'] = pd.DataFrame(variacao)"
   ]
  },
  {
   "cell_type": "code",
   "execution_count": 8,
   "metadata": {},
   "outputs": [
    {
     "name": "stderr",
     "output_type": "stream",
     "text": [
      "c:\\users\\isabel\\appdata\\local\\programs\\python\\python37-32\\lib\\site-packages\\ipykernel_launcher.py:1: FutureWarning: Method .as_matrix will be removed in a future version. Use .values instead.\n",
      "  \"\"\"Entry point for launching an IPython kernel.\n"
     ]
    }
   ],
   "source": [
    "matrix = file.as_matrix()"
   ]
  },
  {
   "cell_type": "markdown",
   "metadata": {},
   "source": [
    "m is the data matrix with everything exepet date and starting at line 149 (because of MA) and ending before last 10 lines (because of variation that predicts for the next 10 days)"
   ]
  },
  {
   "cell_type": "code",
   "execution_count": 9,
   "metadata": {},
   "outputs": [],
   "source": [
    "m = np.array(matrix[149:len(matrix)-10,1:])"
   ]
  },
  {
   "cell_type": "markdown",
   "metadata": {},
   "source": [
    "X is m without the variation column"
   ]
  },
  {
   "cell_type": "code",
   "execution_count": 10,
   "metadata": {},
   "outputs": [],
   "source": [
    "X = m[:,:len(m[0])-1]"
   ]
  },
  {
   "cell_type": "markdown",
   "metadata": {},
   "source": [
    "Y is only yhe variation column"
   ]
  },
  {
   "cell_type": "code",
   "execution_count": 11,
   "metadata": {},
   "outputs": [],
   "source": [
    "Y = m[:,-1]"
   ]
  },
  {
   "cell_type": "markdown",
   "metadata": {},
   "source": [
    "Normalization"
   ]
  },
  {
   "cell_type": "code",
   "execution_count": 12,
   "metadata": {},
   "outputs": [
    {
     "name": "stderr",
     "output_type": "stream",
     "text": [
      "c:\\users\\isabel\\appdata\\local\\programs\\python\\python37-32\\lib\\site-packages\\sklearn\\utils\\validation.py:590: DataConversionWarning: Data with input dtype object was converted to float64 by the scale function.\n",
      "  warnings.warn(msg, DataConversionWarning)\n",
      "c:\\users\\isabel\\appdata\\local\\programs\\python\\python37-32\\lib\\site-packages\\sklearn\\preprocessing\\data.py:176: UserWarning: Numerical issues were encountered when centering the data and might not be solved. Dataset may contain too large values. You may need to prescale your features.\n",
      "  warnings.warn(\"Numerical issues were encountered \"\n"
     ]
    }
   ],
   "source": [
    "X = preprocessing.scale(X)"
   ]
  },
  {
   "cell_type": "code",
   "execution_count": 13,
   "metadata": {},
   "outputs": [
    {
     "data": {
      "text/plain": [
       "array([-2.606653114013502, -2.886251187899602, 0.37998626317454764, ...,\n",
       "       -3.469657745528687, -1.0260805012473506, -1.6157342538582253],\n",
       "      dtype=object)"
      ]
     },
     "execution_count": 13,
     "metadata": {},
     "output_type": "execute_result"
    }
   ],
   "source": [
    "Y"
   ]
  },
  {
   "cell_type": "code",
   "execution_count": 14,
   "metadata": {},
   "outputs": [
    {
     "data": {
      "text/plain": [
       "array([[-1.59646398, -1.57856032, -1.58192885, ...,  1.92244434,\n",
       "        -1.59471737, -1.68762576],\n",
       "       [-1.58821147, -1.59716503, -1.58827847, ...,  0.8263957 ,\n",
       "        -1.58962989, -1.6877099 ],\n",
       "       [-1.59006826, -1.60437829, -1.61835447, ...,  1.01767913,\n",
       "        -1.59322891, -1.68746824],\n",
       "       ...,\n",
       "       [ 1.91576711,  1.90764158,  1.87986553, ..., -0.53297189,\n",
       "         1.94159261,  2.01215966],\n",
       "       [ 1.89763059,  1.88721966,  1.82983866, ..., -0.20087384,\n",
       "         1.91662881,  2.01237477],\n",
       "       [ 1.84822815,  1.87172506,  1.8394008 , ..., -0.25715687,\n",
       "         1.89449161,  2.01307846]])"
      ]
     },
     "execution_count": 14,
     "metadata": {},
     "output_type": "execute_result"
    }
   ],
   "source": [
    "X"
   ]
  },
  {
   "cell_type": "code",
   "execution_count": 15,
   "metadata": {},
   "outputs": [],
   "source": [
    "model = Sequential()\n",
    "model.add(Dense(12, input_dim=8, activation='relu'))\n",
    "model.add(Dense(8, activation='relu'))\n",
    "model.add(Dense(1, activation='tanh'))"
   ]
  },
  {
   "cell_type": "code",
   "execution_count": 16,
   "metadata": {},
   "outputs": [],
   "source": [
    "model.compile(loss='mean_squared_error', optimizer='adam', metrics=['accuracy'])"
   ]
  },
  {
   "cell_type": "code",
   "execution_count": 22,
   "metadata": {},
   "outputs": [
    {
     "name": "stdout",
     "output_type": "stream",
     "text": [
      "Epoch 1/50\n",
      "2358/2358 [==============================] - 15s 6ms/step - loss: 6.6051 - acc: 0.0000e+00\n",
      "Epoch 2/50\n",
      "2358/2358 [==============================] - 14s 6ms/step - loss: 6.5955 - acc: 0.0000e+00\n",
      "Epoch 3/50\n",
      "2358/2358 [==============================] - 15s 6ms/step - loss: 6.5917 - acc: 0.0000e+00\n",
      "Epoch 4/50\n",
      "2358/2358 [==============================] - 14s 6ms/step - loss: 6.5939 - acc: 0.0000e+00\n",
      "Epoch 5/50\n",
      "2358/2358 [==============================] - 14s 6ms/step - loss: 6.5817 - acc: 0.0000e+00\n",
      "Epoch 6/50\n",
      "2358/2358 [==============================] - 14s 6ms/step - loss: 6.5859 - acc: 0.0000e+00\n",
      "Epoch 7/50\n",
      "2358/2358 [==============================] - 14s 6ms/step - loss: 6.5771 - acc: 0.0000e+00\n",
      "Epoch 8/50\n",
      "2358/2358 [==============================] - 14s 6ms/step - loss: 6.5739 - acc: 0.0000e+00\n",
      "Epoch 9/50\n",
      "2358/2358 [==============================] - 15s 6ms/step - loss: 6.5570 - acc: 0.0000e+00\n",
      "Epoch 10/50\n",
      "2358/2358 [==============================] - 15s 6ms/step - loss: 6.5816 - acc: 0.0000e+00\n",
      "Epoch 11/50\n",
      "2358/2358 [==============================] - 14s 6ms/step - loss: 6.5561 - acc: 0.0000e+00\n",
      "Epoch 12/50\n",
      "2358/2358 [==============================] - 13s 5ms/step - loss: 6.5729 - acc: 0.0000e+00\n",
      "Epoch 13/50\n",
      "2358/2358 [==============================] - 9s 4ms/step - loss: 6.5645 - acc: 0.0000e+00\n",
      "Epoch 14/50\n",
      "2358/2358 [==============================] - 14s 6ms/step - loss: 6.5698 - acc: 0.0000e+00\n",
      "Epoch 15/50\n",
      "2358/2358 [==============================] - 14s 6ms/step - loss: 6.5620 - acc: 0.0000e+00\n",
      "Epoch 16/50\n",
      "2358/2358 [==============================] - 15s 6ms/step - loss: 6.5589 - acc: 0.0000e+00: 1s - lo\n",
      "Epoch 17/50\n",
      "2358/2358 [==============================] - 15s 6ms/step - loss: 6.5459 - acc: 0.0000e+00\n",
      "Epoch 18/50\n",
      "2358/2358 [==============================] - 14s 6ms/step - loss: 6.5355 - acc: 0.0000e+00\n",
      "Epoch 19/50\n",
      "2358/2358 [==============================] - 14s 6ms/step - loss: 6.5433 - acc: 0.0000e+00\n",
      "Epoch 20/50\n",
      "2358/2358 [==============================] - 13s 6ms/step - loss: 6.5534 - acc: 0.0000e+00\n",
      "Epoch 21/50\n",
      "2358/2358 [==============================] - 15s 6ms/step - loss: 6.5366 - acc: 0.0000e+00\n",
      "Epoch 22/50\n",
      "2358/2358 [==============================] - 14s 6ms/step - loss: 6.5479 - acc: 0.0000e+00\n",
      "Epoch 23/50\n",
      "2358/2358 [==============================] - 14s 6ms/step - loss: 6.5409 - acc: 0.0000e+00\n",
      "Epoch 24/50\n",
      "2358/2358 [==============================] - 13s 5ms/step - loss: 6.5271 - acc: 0.0000e+00\n",
      "Epoch 25/50\n",
      "2358/2358 [==============================] - 14s 6ms/step - loss: 6.5280 - acc: 0.0000e+00\n",
      "Epoch 26/50\n",
      "2358/2358 [==============================] - 14s 6ms/step - loss: 6.5264 - acc: 0.0000e+00\n",
      "Epoch 27/50\n",
      "2358/2358 [==============================] - 14s 6ms/step - loss: 6.5198 - acc: 0.0000e+00\n",
      "Epoch 28/50\n",
      "2358/2358 [==============================] - 15s 6ms/step - loss: 6.5287 - acc: 0.0000e+00\n",
      "Epoch 29/50\n",
      "2358/2358 [==============================] - 14s 6ms/step - loss: 6.5150 - acc: 0.0000e+00\n",
      "Epoch 30/50\n",
      "2358/2358 [==============================] - 14s 6ms/step - loss: 6.5332 - acc: 0.0000e+00\n",
      "Epoch 31/50\n",
      "2358/2358 [==============================] - 14s 6ms/step - loss: 6.5142 - acc: 0.0000e+00\n",
      "Epoch 32/50\n",
      "2358/2358 [==============================] - 15s 6ms/step - loss: 6.5113 - acc: 0.0000e+00\n",
      "Epoch 33/50\n",
      "2358/2358 [==============================] - 14s 6ms/step - loss: 6.5104 - acc: 0.0000e+00\n",
      "Epoch 34/50\n",
      "2358/2358 [==============================] - 14s 6ms/step - loss: 6.5089 - acc: 0.0000e+00\n",
      "Epoch 35/50\n",
      "2358/2358 [==============================] - 15s 6ms/step - loss: 6.5047 - acc: 0.0000e+00\n",
      "Epoch 36/50\n",
      "2358/2358 [==============================] - 14s 6ms/step - loss: 6.4995 - acc: 0.0000e+00\n",
      "Epoch 37/50\n",
      "2358/2358 [==============================] - 14s 6ms/step - loss: 6.5184 - acc: 0.0000e+00\n",
      "Epoch 38/50\n",
      "2358/2358 [==============================] - 15s 6ms/step - loss: 6.4975 - acc: 0.0000e+00\n",
      "Epoch 39/50\n",
      "2358/2358 [==============================] - 14s 6ms/step - loss: 6.4887 - acc: 0.0000e+00\n",
      "Epoch 40/50\n",
      "2358/2358 [==============================] - 15s 6ms/step - loss: 6.4944 - acc: 0.0000e+00\n",
      "Epoch 41/50\n",
      "2358/2358 [==============================] - 12s 5ms/step - loss: 6.4899 - acc: 0.0000e+00\n",
      "Epoch 42/50\n",
      "2358/2358 [==============================] - 13s 5ms/step - loss: 6.5003 - acc: 0.0000e+00\n",
      "Epoch 43/50\n",
      "2358/2358 [==============================] - 14s 6ms/step - loss: 6.4787 - acc: 0.0000e+00\n",
      "Epoch 44/50\n",
      "2358/2358 [==============================] - 14s 6ms/step - loss: 6.4820 - acc: 0.0000e+00\n",
      "Epoch 45/50\n",
      "2358/2358 [==============================] - 14s 6ms/step - loss: 6.4811 - acc: 0.0000e+00\n",
      "Epoch 46/50\n",
      "2358/2358 [==============================] - 15s 6ms/step - loss: 6.4817 - acc: 0.0000e+00\n",
      "Epoch 47/50\n",
      "2358/2358 [==============================] - 15s 6ms/step - loss: 6.4782 - acc: 0.0000e+00\n",
      "Epoch 48/50\n",
      "2358/2358 [==============================] - 15s 6ms/step - loss: 6.4675 - acc: 0.0000e+00\n",
      "Epoch 49/50\n",
      "2358/2358 [==============================] - 16s 7ms/step - loss: 6.4633 - acc: 0.0000e+00\n",
      "Epoch 50/50\n",
      "2358/2358 [==============================] - 15s 6ms/step - loss: 6.4715 - acc: 0.0000e+00\n"
     ]
    },
    {
     "data": {
      "text/plain": [
       "<keras.callbacks.History at 0x10aeeef0>"
      ]
     },
     "execution_count": 22,
     "metadata": {},
     "output_type": "execute_result"
    }
   ],
   "source": [
    "model.fit(X, Y, epochs=50, batch_size=10)"
   ]
  },
  {
   "cell_type": "code",
   "execution_count": 23,
   "metadata": {},
   "outputs": [
    {
     "name": "stdout",
     "output_type": "stream",
     "text": [
      "2358/2358 [==============================] - 3s 1ms/step\n"
     ]
    }
   ],
   "source": [
    "scores = model.evaluate(X, Y)"
   ]
  },
  {
   "cell_type": "code",
   "execution_count": 25,
   "metadata": {},
   "outputs": [
    {
     "data": {
      "text/plain": [
       "2.5358267727133694"
      ]
     },
     "execution_count": 25,
     "metadata": {},
     "output_type": "execute_result"
    }
   ],
   "source": [
    "import math\n",
    "math.sqrt(scores[0])"
   ]
  },
  {
   "cell_type": "code",
   "execution_count": 26,
   "metadata": {},
   "outputs": [
    {
     "data": {
      "text/plain": [
       "0.4941301857128135"
      ]
     },
     "execution_count": 26,
     "metadata": {},
     "output_type": "execute_result"
    }
   ],
   "source": [
    "Y.mean()"
   ]
  },
  {
   "cell_type": "code",
   "execution_count": 28,
   "metadata": {},
   "outputs": [
    {
     "data": {
      "text/plain": [
       "2.62099175569945"
      ]
     },
     "execution_count": 28,
     "metadata": {},
     "output_type": "execute_result"
    }
   ],
   "source": [
    "Y.std()"
   ]
  },
  {
   "cell_type": "code",
   "execution_count": null,
   "metadata": {},
   "outputs": [],
   "source": []
  }
 ],
 "metadata": {
  "kernelspec": {
   "display_name": "Python 3",
   "language": "python",
   "name": "python3"
  },
  "language_info": {
   "codemirror_mode": {
    "name": "ipython",
    "version": 3
   },
   "file_extension": ".py",
   "mimetype": "text/x-python",
   "name": "python",
   "nbconvert_exporter": "python",
   "pygments_lexer": "ipython3",
   "version": "3.7.0"
  }
 },
 "nbformat": 4,
 "nbformat_minor": 2
}
